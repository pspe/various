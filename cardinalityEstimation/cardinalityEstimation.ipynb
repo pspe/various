{
 "cells": [
  {
   "cell_type": "code",
   "execution_count": 21,
   "metadata": {
    "collapsed": false
   },
   "outputs": [],
   "source": [
    "def bitrowlength(v):\n",
    "    for b in xrange (64):\n",
    "        print \"curr \",b\n",
    "        m = 1 << (63-b)\n",
    "        print \"mask : \",m\n",
    "        print \"v&m = \",(v&m)\n",
    "        if v&m != 0:\n",
    "            return b\n",
    "\n",
    "        "
   ]
  },
  {
   "cell_type": "code",
   "execution_count": 27,
   "metadata": {
    "collapsed": false
   },
   "outputs": [
    {
     "name": "stdout",
     "output_type": "stream",
     "text": [
      "curr  0\n",
      "mask :  9223372036854775808\n",
      "v&m =  0\n",
      "curr  1\n",
      "mask :  4611686018427387904\n",
      "v&m =  4611686018427387904\n",
      "1\n"
     ]
    }
   ],
   "source": [
    "print bitrowlength (1<<63 -1)\n"
   ]
  },
  {
   "cell_type": "code",
   "execution_count": null,
   "metadata": {
    "collapsed": false
   },
   "outputs": [],
   "source": []
  },
  {
   "cell_type": "code",
   "execution_count": null,
   "metadata": {
    "collapsed": true
   },
   "outputs": [],
   "source": []
  }
 ],
 "metadata": {
  "kernelspec": {
   "display_name": "Python 2",
   "language": "python",
   "name": "python2"
  },
  "language_info": {
   "codemirror_mode": {
    "name": "ipython",
    "version": 2
   },
   "file_extension": ".py",
   "mimetype": "text/x-python",
   "name": "python",
   "nbconvert_exporter": "python",
   "pygments_lexer": "ipython2",
   "version": "2.7.10"
  }
 },
 "nbformat": 4,
 "nbformat_minor": 0
}
